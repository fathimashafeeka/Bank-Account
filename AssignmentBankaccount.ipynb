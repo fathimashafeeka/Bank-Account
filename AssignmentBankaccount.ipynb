{
 "cells": [
  {
   "cell_type": "code",
   "execution_count": 3,
   "id": "5f5c78fb-9784-4811-8576-8e57f0384fc0",
   "metadata": {},
   "outputs": [
    {
     "name": "stdin",
     "output_type": "stream",
     "text": [
      "Enter account number(13 digits):  1234567890987\n",
      "Enter account holder name:  shafeeka\n",
      "Enter initial balance:  10000\n"
     ]
    },
    {
     "name": "stdout",
     "output_type": "stream",
     "text": [
      "Account Number: 1234567890987\n",
      "Account Holder Name: shafeeka\n",
      "Balance: 10000\n",
      "\n",
      "Menu: \n",
      "1.Deposit\n",
      "2.Withdrawal\n",
      "3.Apply bank fees\n",
      "4.Display account details\n",
      "5.Exit\n",
      "\n"
     ]
    },
    {
     "name": "stdin",
     "output_type": "stream",
     "text": [
      "Enter your choice:  1\n",
      "Enter amount to deposit:  10000\n"
     ]
    },
    {
     "name": "stdout",
     "output_type": "stream",
     "text": [
      "Deposit of 10000 is successful.New balance : 20000\n",
      "\n",
      "Menu: \n",
      "1.Deposit\n",
      "2.Withdrawal\n",
      "3.Apply bank fees\n",
      "4.Display account details\n",
      "5.Exit\n",
      "\n"
     ]
    },
    {
     "name": "stdin",
     "output_type": "stream",
     "text": [
      "Enter your choice:  2\n",
      "Enter amount to withdrawal:  5000\n"
     ]
    },
    {
     "name": "stdout",
     "output_type": "stream",
     "text": [
      "withdrawal of 5000 is successful.New balance : 15000\n",
      "\n",
      "Menu: \n",
      "1.Deposit\n",
      "2.Withdrawal\n",
      "3.Apply bank fees\n",
      "4.Display account details\n",
      "5.Exit\n",
      "\n"
     ]
    },
    {
     "name": "stdin",
     "output_type": "stream",
     "text": [
      "Enter your choice:  3\n"
     ]
    },
    {
     "name": "stdout",
     "output_type": "stream",
     "text": [
      "Bank fees applied.New balance : 14250\n",
      "\n",
      "Menu: \n",
      "1.Deposit\n",
      "2.Withdrawal\n",
      "3.Apply bank fees\n",
      "4.Display account details\n",
      "5.Exit\n",
      "\n"
     ]
    },
    {
     "name": "stdin",
     "output_type": "stream",
     "text": [
      "Enter your choice:  4\n"
     ]
    },
    {
     "name": "stdout",
     "output_type": "stream",
     "text": [
      "Account Number: 1234567890987\n",
      "Account Holder Name: shafeeka\n",
      "Balance: 14250\n",
      "\n",
      "Menu: \n",
      "1.Deposit\n",
      "2.Withdrawal\n",
      "3.Apply bank fees\n",
      "4.Display account details\n",
      "5.Exit\n",
      "\n"
     ]
    },
    {
     "name": "stdin",
     "output_type": "stream",
     "text": [
      "Enter your choice:  5\n"
     ]
    },
    {
     "name": "stdout",
     "output_type": "stream",
     "text": [
      "Exiting program.\n"
     ]
    }
   ],
   "source": [
    "class BankAccount:\n",
    "    def __init__(self,accountnumber,name,balance):\n",
    "        self.accountnumber = accountnumber\n",
    "        self.name = name\n",
    "        self.balance = balance\n",
    "\n",
    "    \n",
    "    def deposit(self,amount):\n",
    "        if isinstance(amount,int):\n",
    "            self.balance += amount\n",
    "            print(f\"Deposit of {amount} is successful.New balance : {self.balance}\")\n",
    "\n",
    "        else:\n",
    "            print(\"Deposit amount should be an integer\")\n",
    "\n",
    "    def withdrawal(self,amount):\n",
    "        if isinstance (amount,int):\n",
    "            if amount <= self.balance:\n",
    "                self.balance -= amount\n",
    "                print(f\"withdrawal of {amount} is successful.New balance : {self.balance}\")\n",
    "            else:\n",
    "                print(\"Insufficient funds\")\n",
    "        else:\n",
    "            print(\"Withdrawal amount should be an integer\")\n",
    "\n",
    "\n",
    "    def bankfees(self):\n",
    "        fees = int(self.balance * 0.05)\n",
    "        self.balance -= fees\n",
    "        print(f\"Bank fees applied.New balance : {self.balance}\")\n",
    "\n",
    "\n",
    "    def display(self):\n",
    "        print(f\"Account Number: {self.accountnumber}\")\n",
    "        print(f\"Account Holder Name: {self.name}\")\n",
    "        print(f\"Balance: {self.balance}\")\n",
    "accountnumber = input (\"Enter account number(13 digits): \")\n",
    "while not(accountnumber.isdigit() and len(accountnumber) == 13):\n",
    "    print(\"Invalid account number! It should be 13 digits and only contain numbers.\")\n",
    "    accountnumber = input(\"Enter acccount number(13 digits: \")\n",
    "name = input(\"Enter account holder name: \")\n",
    "balance = int(input(\"Enter initial balance: \"))\n",
    "account = BankAccount(accountnumber,name,balance)\n",
    "account.display()\n",
    "while True:\n",
    "    print(\"\\nMenu: \")\n",
    "    print(\"1.Deposit\")\n",
    "    print(\"2.Withdrawal\")\n",
    "    print(\"3.Apply bank fees\")\n",
    "    print(\"4.Display account details\")\n",
    "    print(\"5.Exit\\n\")\n",
    "    choice =  input(\"Enter your choice: \")\n",
    "    if choice == '1':\n",
    "        amount = int(input(\"Enter amount to deposit: \"))\n",
    "        account.deposit(amount)\n",
    "    elif choice == '2':\n",
    "        amount = int(input(\"Enter amount to withdrawal: \"))\n",
    "        account.withdrawal(amount)\n",
    "    elif choice == '3':\n",
    "        account.bankfees()\n",
    "    elif choice == '4':\n",
    "        account.display()\n",
    "    elif choice == '5':\n",
    "        print(\"Exiting program.\")\n",
    "        break\n",
    "    else:\n",
    "        print(\"Invalid choice.Please enter a number from 1 to 5.\")\n",
    "        \n",
    "        \n"
   ]
  },
  {
   "cell_type": "code",
   "execution_count": null,
   "id": "87cf3193-ad3b-4c9f-baa3-e94d4fc2e25d",
   "metadata": {},
   "outputs": [],
   "source": []
  }
 ],
 "metadata": {
  "kernelspec": {
   "display_name": "Python 3 (ipykernel)",
   "language": "python",
   "name": "python3"
  },
  "language_info": {
   "codemirror_mode": {
    "name": "ipython",
    "version": 3
   },
   "file_extension": ".py",
   "mimetype": "text/x-python",
   "name": "python",
   "nbconvert_exporter": "python",
   "pygments_lexer": "ipython3",
   "version": "3.11.7"
  }
 },
 "nbformat": 4,
 "nbformat_minor": 5
}
